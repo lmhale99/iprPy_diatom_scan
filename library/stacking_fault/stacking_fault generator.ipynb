{
 "cells": [
  {
   "cell_type": "markdown",
   "metadata": {},
   "source": [
    "# Free surface model generator"
   ]
  },
  {
   "cell_type": "markdown",
   "metadata": {},
   "source": [
    "**Library imports**"
   ]
  },
  {
   "cell_type": "code",
   "execution_count": 1,
   "metadata": {},
   "outputs": [],
   "source": [
    "import uuid\n",
    "\n",
    "import numpy as np\n",
    "\n",
    "from DataModelDict import DataModelDict as DM\n",
    "\n",
    "import atomman as am\n",
    "\n",
    "from pathlib import Path\n",
    "\n",
    "import iprPy"
   ]
  },
  {
   "cell_type": "code",
   "execution_count": 2,
   "metadata": {},
   "outputs": [],
   "source": [
    "def vectstr(vect):\n",
    "    out = ''\n",
    "    for v in vect:\n",
    "        out += f'{repr(v)} '\n",
    "    return out.strip()\n",
    "\n",
    "def gen_stacking_fault_model(hkl, uvws, family, atomshift, shiftvector1, shiftvector2, setting=None):\n",
    "    \n",
    "    if len(hkl) == 3:\n",
    "        model_id = family + '--' + '%i%i%isf' % tuple(hkl)\n",
    "    elif len(hkl) == 4:\n",
    "        model_id = family + '--' + '%i%i%i%isf' % (np.abs(hkl[0]), np.abs(hkl[1]),np.abs(hkl[2]),np.abs(hkl[3]))\n",
    "    if setting is not None:\n",
    "        model_id += '-' + setting\n",
    "    fname = Path(model_id + '.json')\n",
    "    \n",
    "    if fname.is_file():\n",
    "        #return None\n",
    "        old = DM(fname.as_posix())\n",
    "        key = old['stacking-fault']['key']\n",
    "    else:\n",
    "        key = str(uuid.uuid4())\n",
    "    \n",
    "    model = DM()\n",
    "    model['stacking-fault'] = DM()\n",
    "    model['stacking-fault']['key'] = key\n",
    "    model['stacking-fault']['id'] = model_id\n",
    "    model['stacking-fault']['system-family'] = family\n",
    "    \n",
    "    model['stacking-fault']['calculation-parameter'] = DM()\n",
    "    if len(hkl) == 3:\n",
    "        model['stacking-fault']['calculation-parameter']['a_uvw'] = '%2i %2i %2i' % tuple(uvws[0])\n",
    "        model['stacking-fault']['calculation-parameter']['b_uvw'] = '%2i %2i %2i' % tuple(uvws[1])\n",
    "        model['stacking-fault']['calculation-parameter']['c_uvw'] = '%2i %2i %2i' % tuple(uvws[2])\n",
    "    elif len(hkl) == 4:\n",
    "        model['stacking-fault']['calculation-parameter']['a_uvw'] = vectstr(uvws[0])\n",
    "        model['stacking-fault']['calculation-parameter']['b_uvw'] = vectstr(uvws[1])\n",
    "        model['stacking-fault']['calculation-parameter']['c_uvw'] = vectstr(uvws[2])\n",
    "    model['stacking-fault']['calculation-parameter']['cutboxvector'] = 'c'\n",
    "    model['stacking-fault']['calculation-parameter']['atomshift'] = vectstr(atomshift)\n",
    "    model['stacking-fault']['calculation-parameter']['faultpos'] = '0.0'  \n",
    "    model['stacking-fault']['calculation-parameter']['shiftvector1'] = vectstr(shiftvector1)\n",
    "    model['stacking-fault']['calculation-parameter']['shiftvector2'] = vectstr(shiftvector2)\n",
    "    \n",
    "    with open(model_id + '.json', 'w') as f:\n",
    "        model.json(fp=f, indent=4)"
   ]
  },
  {
   "cell_type": "code",
   "execution_count": 3,
   "metadata": {},
   "outputs": [],
   "source": [
    "database = iprPy.load_database('master')\n",
    "protos = database.get_records_df(style='crystal_prototype')\n",
    "\n",
    "# Limit to elemental prototypes\n",
    "protos = protos[protos.natypes == 1]"
   ]
  },
  {
   "cell_type": "code",
   "execution_count": 4,
   "metadata": {},
   "outputs": [
    {
     "data": {
      "text/plain": [
       "array(['A1--Cu--fcc', 'A15--beta-W', 'A2--W--bcc',\n",
       "       \"A3'--alpha-La--double-hcp\", 'A3--Mg--hcp', 'A4--C--dc',\n",
       "       'A5--beta-Sn', 'A6--In--bct', 'A7--alpha-As', 'Ah--alpha-Po--sc'],\n",
       "      dtype=object)"
      ]
     },
     "execution_count": 4,
     "metadata": {},
     "output_type": "execute_result"
    }
   ],
   "source": [
    "np.unique(protos.id)"
   ]
  },
  {
   "cell_type": "markdown",
   "metadata": {},
   "source": [
    "## A1--Cu--fcc"
   ]
  },
  {
   "cell_type": "code",
   "execution_count": 5,
   "metadata": {},
   "outputs": [],
   "source": [
    "family = 'A1--Cu--fcc'\n",
    "ucell = am.load('system_model', Path(iprPy.libdir, 'crystal_prototype', family+'.json').as_posix())\n",
    "\n",
    "a = 2 ** -0.5\n",
    "primbox = am.Box.trigonal(a=a, alpha=60)\n",
    "conventional_setting = 'f'\n",
    "\n",
    "hkls = [\n",
    "    [1,0,0],\n",
    "    [1,1,1],\n",
    "       ]"
   ]
  },
  {
   "cell_type": "markdown",
   "metadata": {},
   "source": [
    "## A2--W--bcc"
   ]
  },
  {
   "cell_type": "code",
   "execution_count": 7,
   "metadata": {},
   "outputs": [],
   "source": [
    "family = 'A2--W--bcc'\n",
    "ucell = am.load('system_model', Path(iprPy.libdir, 'crystal_prototype', family+'.json').as_posix())\n",
    "\n",
    "a = 2 * 3 ** -0.5\n",
    "alpha = am.tools.vect_angle([1, 1, 1], [1, -1,-1])\n",
    "primbox = am.Box.trigonal(a=a, alpha=alpha)\n",
    "conventional_setting = 'i'\n",
    "\n",
    "hkls = [\n",
    "    [1,1,0],\n",
    "    [1,1,2],\n",
    "    [1,2,3],\n",
    "       ]"
   ]
  },
  {
   "cell_type": "markdown",
   "metadata": {},
   "source": [
    "## A3--Mg--hcp"
   ]
  },
  {
   "cell_type": "code",
   "execution_count": 9,
   "metadata": {},
   "outputs": [],
   "source": [
    "family = 'A3--Mg--hcp'\n",
    "ucell = am.load('system_model', Path(iprPy.libdir, 'crystal_prototype', family+'.json').as_posix())\n",
    "\n",
    "primbox = ucell.box\n",
    "conventional_setting = 'p'\n",
    "\n",
    "hkls = [\n",
    "    [0,0,0,1],\n",
    "    [1,0,-1,0],\n",
    "    [1,0,-1,1],\n",
    "    [2,-1,-1,2],\n",
    "       ]"
   ]
  },
  {
   "cell_type": "markdown",
   "metadata": {},
   "source": [
    "## Generate"
   ]
  },
  {
   "cell_type": "code",
   "execution_count": 10,
   "metadata": {},
   "outputs": [],
   "source": [
    "for hkl in hkls:\n",
    "    \n",
    "    # Use primitive ucell to find shortest lattice shift vectors\n",
    "    puvws = am.defect.free_surface_basis(hkl, box=primbox, conventional_setting=conventional_setting)\n",
    "    \n",
    "    if len(hkl) == 3:\n",
    "        pcuvws = am.tools.miller.vector_primitive_to_conventional(puvws, setting=conventional_setting)\n",
    "    elif len(hkl) == 4:\n",
    "        pcuvws = puvws\n",
    "    shiftvector1 = pcuvws[0]\n",
    "    shiftvector2 = pcuvws[1]\n",
    "    \n",
    "    # Use conventional ucell for rotations\n",
    "    uvws = am.defect.free_surface_basis(hkl, box=ucell.box)\n",
    "    \n",
    "    # Rotate ucell\n",
    "    system = ucell.rotate(uvws)\n",
    "\n",
    "    # Get unique scaled z coordinates\n",
    "    allsz = system.atoms_prop(key='pos', scale=True)[:,2]\n",
    "\n",
    "    sz = np.array([])\n",
    "    for z in allsz:\n",
    "\n",
    "        if np.isclose(z, 1.0) or np.isclose(z, 0.0):\n",
    "            z = 0.0\n",
    "\n",
    "        if np.sum(np.isclose(sz, z)) == 0:\n",
    "            sz = np.append(sz, z)\n",
    "\n",
    "    sz = np.sort(sz)\n",
    "\n",
    "    # Wraparound\n",
    "    atomshifts = [np.array([0.0, 0.0, ((sz[-1] - 1 + sz[0]) / 2)])]\n",
    "    deltas = [sz[0] - (sz[-1] - 1)]\n",
    "\n",
    "    # All middle\n",
    "    for i in range(len(sz)-1):\n",
    "        deltatest = sz[i+1] - sz[i]\n",
    "        newdelta = True\n",
    "        for delta in deltas:\n",
    "            if np.isclose(delta, deltatest):\n",
    "                newdelta = False\n",
    "                break\n",
    "        if newdelta:\n",
    "            atomshifts.append(np.array([0.0, 0.0, ((sz[i] + sz[i+1]) / 2)]))\n",
    "            deltas.append(deltatest)\n",
    "\n",
    "    if len(atomshifts) == 1:\n",
    "        gen_stacking_fault_model(hkl, uvws, family, atomshifts[0], shiftvector1, shiftvector2)\n",
    "    else:\n",
    "        for i, atomshift in enumerate(atomshifts):\n",
    "            gen_stacking_fault_model(hkl, uvws, family, atomshift, shiftvector1, shiftvector2, setting=str(i+1))"
   ]
  },
  {
   "cell_type": "code",
   "execution_count": 33,
   "metadata": {},
   "outputs": [
    {
     "data": {
      "text/plain": [
       "array([[ 0.66666667, -0.33333333, -0.33333333,  0.        ],\n",
       "       [ 0.33333333,  0.33333333, -0.66666667,  0.        ],\n",
       "       [ 0.        ,  0.        , -0.        ,  1.        ]])"
      ]
     },
     "execution_count": 33,
     "metadata": {},
     "output_type": "execute_result"
    }
   ],
   "source": [
    "puvws"
   ]
  },
  {
   "cell_type": "code",
   "execution_count": 36,
   "metadata": {},
   "outputs": [
    {
     "data": {
      "text/plain": [
       "array([-1.,  1., -0.,  0.])"
      ]
     },
     "execution_count": 36,
     "metadata": {},
     "output_type": "execute_result"
    }
   ],
   "source": [
    "uvws[0]"
   ]
  },
  {
   "cell_type": "code",
   "execution_count": 37,
   "metadata": {},
   "outputs": [
    {
     "data": {
      "text/plain": [
       "array([-0.33333333, -0.33333333,  0.66666667,  1.        ])"
      ]
     },
     "execution_count": 37,
     "metadata": {},
     "output_type": "execute_result"
    }
   ],
   "source": [
    "uvws[1]"
   ]
  },
  {
   "cell_type": "code",
   "execution_count": null,
   "metadata": {},
   "outputs": [],
   "source": []
  }
 ],
 "metadata": {
  "kernelspec": {
   "display_name": "Python 3",
   "language": "python",
   "name": "python3"
  },
  "language_info": {
   "codemirror_mode": {
    "name": "ipython",
    "version": 3
   },
   "file_extension": ".py",
   "mimetype": "text/x-python",
   "name": "python",
   "nbconvert_exporter": "python",
   "pygments_lexer": "ipython3",
   "version": "3.7.3"
  }
 },
 "nbformat": 4,
 "nbformat_minor": 2
}
