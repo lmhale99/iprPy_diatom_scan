{
 "cells": [
  {
   "cell_type": "markdown",
   "metadata": {},
   "source": [
    "# Free surface model generator"
   ]
  },
  {
   "cell_type": "markdown",
   "metadata": {},
   "source": [
    "**Library imports**"
   ]
  },
  {
   "cell_type": "code",
   "execution_count": 1,
   "metadata": {},
   "outputs": [],
   "source": [
    "import uuid\n",
    "\n",
    "import numpy as np\n",
    "\n",
    "from DataModelDict import DataModelDict as DM\n",
    "\n",
    "import atomman as am\n",
    "\n",
    "from pathlib import Path\n",
    "\n",
    "import iprPy"
   ]
  },
  {
   "cell_type": "code",
   "execution_count": 2,
   "metadata": {},
   "outputs": [],
   "source": [
    "def vectstr(vect):\n",
    "    out = ''\n",
    "    for v in vect:\n",
    "        out += f'{repr(v)} '\n",
    "    return out.strip()\n",
    "\n",
    "def gen_free_surface_model(hkl, uvws, family, atomshift, setting=None):\n",
    "    if len(hkl) == 3:\n",
    "        model_id = family + '--' + '%i%i%i' % tuple(hkl)\n",
    "    elif len(hkl) == 4:\n",
    "        model_id = family + '--' + '%i%i%i%i' % (np.abs(hkl[0]), np.abs(hkl[1]), np.abs(hkl[2]), np.abs(hkl[3]))\n",
    "    if setting is not None:\n",
    "        model_id += '-' + setting\n",
    "    fname = Path(model_id + '.json')\n",
    "    \n",
    "    if fname.is_file():\n",
    "        #return None\n",
    "        old = DM(fname.as_posix())\n",
    "        key = old['free-surface']['key']\n",
    "    else:\n",
    "        key = str(uuid.uuid4())\n",
    "    \n",
    "    model = DM()\n",
    "    model['free-surface'] = DM()\n",
    "    model['free-surface']['key'] = key\n",
    "    model['free-surface']['id'] = model_id\n",
    "    model['free-surface']['system-family'] = family\n",
    "    \n",
    "    model['free-surface']['calculation-parameter'] = DM()\n",
    "    if len(hkl) == 3:\n",
    "        model['free-surface']['calculation-parameter']['a_uvw'] = '%2i %2i %2i' % tuple(uvws[0])\n",
    "        model['free-surface']['calculation-parameter']['b_uvw'] = '%2i %2i %2i' % tuple(uvws[1])\n",
    "        model['free-surface']['calculation-parameter']['c_uvw'] = '%2i %2i %2i' % tuple(uvws[2])\n",
    "    elif len(hkl) == 4:\n",
    "        model['free-surface']['calculation-parameter']['a_uvw'] = vectstr(uvws[0])\n",
    "        model['free-surface']['calculation-parameter']['b_uvw'] = vectstr(uvws[1])\n",
    "        model['free-surface']['calculation-parameter']['c_uvw'] = vectstr(uvws[2])\n",
    "    model['free-surface']['calculation-parameter']['cutboxvector'] = 'c'\n",
    "    model['free-surface']['calculation-parameter']['atomshift'] = vectstr(atomshift)\n",
    "    \n",
    "    with open(model_id + '.json', 'w') as f:\n",
    "        model.json(fp=f, indent=4)"
   ]
  },
  {
   "cell_type": "code",
   "execution_count": 3,
   "metadata": {},
   "outputs": [],
   "source": [
    "database = iprPy.load_database('master')\n",
    "protos = database.get_records_df(style='crystal_prototype')\n",
    "\n",
    "# Limit to elemental prototypes\n",
    "protos = protos[protos.natypes == 1]"
   ]
  },
  {
   "cell_type": "code",
   "execution_count": 4,
   "metadata": {},
   "outputs": [
    {
     "data": {
      "text/plain": [
       "array(['cubic', 'hexagonal', 'tetragonal'], dtype=object)"
      ]
     },
     "execution_count": 4,
     "metadata": {},
     "output_type": "execute_result"
    }
   ],
   "source": [
    "np.unique(protos.crystal_family)"
   ]
  },
  {
   "cell_type": "markdown",
   "metadata": {},
   "source": [
    "## Cubic"
   ]
  },
  {
   "cell_type": "code",
   "execution_count": 5,
   "metadata": {},
   "outputs": [],
   "source": [
    "families = protos[protos.crystal_family == 'cubic'].id.tolist()\n",
    "hkls = [\n",
    "    [1,0,0],\n",
    "    [1,1,0],\n",
    "    [1,1,1],\n",
    "    [2,1,0],\n",
    "    [2,1,1],\n",
    "    [2,2,1],\n",
    "    [3,1,0],\n",
    "    [3,1,1],\n",
    "    [3,2,0],\n",
    "    [3,2,1],\n",
    "    [3,2,2],\n",
    "    [3,3,1],   \n",
    "    [3,3,2],\n",
    "       ]"
   ]
  },
  {
   "cell_type": "markdown",
   "metadata": {},
   "source": [
    "## Hexagonal"
   ]
  },
  {
   "cell_type": "code",
   "execution_count": 8,
   "metadata": {},
   "outputs": [],
   "source": [
    "families = protos[protos.crystal_family == 'hexagonal'].id.tolist()\n",
    "hkls = [\n",
    "    [1,1,-2,0],\n",
    "    [1,0,-1,0],\n",
    "    [2,1,-3,0],\n",
    "    [0,0,0,1],\n",
    "    [1,1,-2,1],\n",
    "    [1,0,-1,1],\n",
    "    [2,0,-2,1],\n",
    "    [2,1,-3,1],\n",
    "    [2,2,-4,1],\n",
    "    [1,0,-1,2],\n",
    "    [2,-1,-1,2],\n",
    "    [2,1,-3,2],  \n",
    "]"
   ]
  },
  {
   "cell_type": "markdown",
   "metadata": {},
   "source": [
    "## Tetragonal"
   ]
  },
  {
   "cell_type": "code",
   "execution_count": 10,
   "metadata": {},
   "outputs": [],
   "source": [
    "families = protos[protos.crystal_family == 'tetragonal'].id.tolist()\n",
    "hkls = [\n",
    "    [1,0,0],\n",
    "    [0,0,1],\n",
    "    [1,0,1],\n",
    "    [1,1,0],\n",
    "    [1,1,1],\n",
    "    [2,0,1],\n",
    "    [1,1,2],\n",
    "    [2,1,1],    \n",
    "]"
   ]
  },
  {
   "cell_type": "markdown",
   "metadata": {},
   "source": [
    "## Generate"
   ]
  },
  {
   "cell_type": "code",
   "execution_count": 11,
   "metadata": {},
   "outputs": [],
   "source": [
    "for family in families:\n",
    "    ucellfile = Path(iprPy.libdir, 'crystal_prototype', family+'.json')\n",
    "    ucell = am.load('system_model', ucellfile.as_posix())\n",
    "    \n",
    "    for hkl in hkls:\n",
    "        uvws = am.defect.free_surface_basis(hkl, box=ucell.box)\n",
    "        # Rotate ucell\n",
    "        system = ucell.rotate(uvws)\n",
    "\n",
    "        # Get unique scaled z coordinates\n",
    "        allsz = system.atoms_prop(key='pos', scale=True)[:,2]\n",
    "\n",
    "        sz = np.array([])\n",
    "        for z in allsz:\n",
    "\n",
    "            if np.isclose(z, 1.0) or np.isclose(z, 0.0):\n",
    "                z = 0.0\n",
    "\n",
    "            if np.sum(np.isclose(sz, z)) == 0:\n",
    "                sz = np.append(sz, z)\n",
    "\n",
    "        sz = np.sort(sz)\n",
    "\n",
    "        # Wraparound\n",
    "        atomshifts = [np.array([0.0, 0.0, ((sz[-1] - 1 + sz[0]) / 2)])]\n",
    "        deltas = [sz[0] - (sz[-1] - 1)]\n",
    "\n",
    "        # All middle\n",
    "        for i in range(len(sz)-1):\n",
    "            deltatest = sz[i+1] - sz[i]\n",
    "            newdelta = True\n",
    "            for delta in deltas:\n",
    "                if np.isclose(delta, deltatest):\n",
    "                    newdelta = False\n",
    "                    break\n",
    "            if newdelta:\n",
    "                atomshifts.append(np.array([0.0, 0.0, ((sz[i] + sz[i+1]) / 2)]))\n",
    "                deltas.append(deltatest)\n",
    "        \n",
    "        if len(atomshifts) == 1:\n",
    "            gen_free_surface_model(hkl, uvws, family, atomshifts[0])\n",
    "        else:\n",
    "            for i, atomshift in enumerate(atomshifts):\n",
    "                gen_free_surface_model(hkl, uvws, family, atomshift, setting=str(i+1))"
   ]
  },
  {
   "cell_type": "code",
   "execution_count": null,
   "metadata": {},
   "outputs": [],
   "source": []
  }
 ],
 "metadata": {
  "kernelspec": {
   "display_name": "Python 3",
   "language": "python",
   "name": "python3"
  },
  "language_info": {
   "codemirror_mode": {
    "name": "ipython",
    "version": 3
   },
   "file_extension": ".py",
   "mimetype": "text/x-python",
   "name": "python",
   "nbconvert_exporter": "python",
   "pygments_lexer": "ipython3",
   "version": "3.7.3"
  }
 },
 "nbformat": 4,
 "nbformat_minor": 2
}
