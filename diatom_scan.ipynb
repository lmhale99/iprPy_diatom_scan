{
 "cells": [
  {
   "cell_type": "markdown",
   "metadata": {},
   "source": [
    "# diatom_scan calculation style\n",
    "\n",
    "**Lucas M. Hale**, [lucas.hale@nist.gov](mailto:lucas.hale@nist.gov?Subject=ipr-demo), *Materials Science and Engineering Division, NIST*.\n",
    "\n",
    "Description updated: 2019-07-26\n",
    "\n",
    "## Introduction\n",
    "\n",
    "The diatom_scan calculation style evaluates the interaction energy between two atoms at varying distances.  This provides a measure of the isolated pair interaction of two atoms providing insights into the strengths of the attraction/repulsion and the effective range of interatomic spacings.  This scan also gives insight into the computational smoothness of the potential's functional form.\n",
    "\n",
    "### Version notes\n",
    "\n",
    "### Additional dependencies\n",
    "\n",
    "### Disclaimers\n",
    "\n",
    "- [NIST disclaimers](http://www.nist.gov/public_affairs/disclaimer.cfm)\n",
    "- No 3+ body interactions are explored with this calculation as only two atoms are used.\n"
   ]
  },
  {
   "cell_type": "markdown",
   "metadata": {},
   "source": [
    "## Method and Theory\n",
    "\n",
    "Two atoms are placed in an otherwise empty system.  The total energy of the system is evaluated for different interatomic spacings.\n"
   ]
  },
  {
   "cell_type": "markdown",
   "metadata": {},
   "source": [
    "## Demonstration"
   ]
  },
  {
   "cell_type": "markdown",
   "metadata": {},
   "source": [
    "### 1. Setup"
   ]
  },
  {
   "cell_type": "markdown",
   "metadata": {},
   "source": [
    "#### 1.1. Library imports\n",
    "\n",
    "Import libraries needed by the calculation. The external libraries used are:\n",
    "\n",
    "- [numpy](http://www.numpy.org/)\n",
    "- [DataModelDict](https://github.com/usnistgov/DataModelDict)\n",
    "- [atomman](https://github.com/usnistgov/atomman)\n",
    "- [iprPy](https://github.com/usnistgov/iprPy)\n",
    "- [bokeh](http://bokeh.pydata.org/)"
   ]
  },
  {
   "cell_type": "code",
   "execution_count": 1,
   "metadata": {},
   "outputs": [
    {
     "name": "stdout",
     "output_type": "stream",
     "text": [
      "Bokeh version = 1.4.0\n"
     ]
    },
    {
     "data": {
      "text/html": [
       "\n",
       "    <div class=\"bk-root\">\n",
       "        <a href=\"https://bokeh.org\" target=\"_blank\" class=\"bk-logo bk-logo-small bk-logo-notebook\"></a>\n",
       "        <span id=\"1001\">Loading BokehJS ...</span>\n",
       "    </div>"
      ]
     },
     "metadata": {},
     "output_type": "display_data"
    },
    {
     "data": {
      "application/javascript": [
       "\n",
       "(function(root) {\n",
       "  function now() {\n",
       "    return new Date();\n",
       "  }\n",
       "\n",
       "  var force = true;\n",
       "\n",
       "  if (typeof root._bokeh_onload_callbacks === \"undefined\" || force === true) {\n",
       "    root._bokeh_onload_callbacks = [];\n",
       "    root._bokeh_is_loading = undefined;\n",
       "  }\n",
       "\n",
       "  var JS_MIME_TYPE = 'application/javascript';\n",
       "  var HTML_MIME_TYPE = 'text/html';\n",
       "  var EXEC_MIME_TYPE = 'application/vnd.bokehjs_exec.v0+json';\n",
       "  var CLASS_NAME = 'output_bokeh rendered_html';\n",
       "\n",
       "  /**\n",
       "   * Render data to the DOM node\n",
       "   */\n",
       "  function render(props, node) {\n",
       "    var script = document.createElement(\"script\");\n",
       "    node.appendChild(script);\n",
       "  }\n",
       "\n",
       "  /**\n",
       "   * Handle when an output is cleared or removed\n",
       "   */\n",
       "  function handleClearOutput(event, handle) {\n",
       "    var cell = handle.cell;\n",
       "\n",
       "    var id = cell.output_area._bokeh_element_id;\n",
       "    var server_id = cell.output_area._bokeh_server_id;\n",
       "    // Clean up Bokeh references\n",
       "    if (id != null && id in Bokeh.index) {\n",
       "      Bokeh.index[id].model.document.clear();\n",
       "      delete Bokeh.index[id];\n",
       "    }\n",
       "\n",
       "    if (server_id !== undefined) {\n",
       "      // Clean up Bokeh references\n",
       "      var cmd = \"from bokeh.io.state import curstate; print(curstate().uuid_to_server['\" + server_id + \"'].get_sessions()[0].document.roots[0]._id)\";\n",
       "      cell.notebook.kernel.execute(cmd, {\n",
       "        iopub: {\n",
       "          output: function(msg) {\n",
       "            var id = msg.content.text.trim();\n",
       "            if (id in Bokeh.index) {\n",
       "              Bokeh.index[id].model.document.clear();\n",
       "              delete Bokeh.index[id];\n",
       "            }\n",
       "          }\n",
       "        }\n",
       "      });\n",
       "      // Destroy server and session\n",
       "      var cmd = \"import bokeh.io.notebook as ion; ion.destroy_server('\" + server_id + \"')\";\n",
       "      cell.notebook.kernel.execute(cmd);\n",
       "    }\n",
       "  }\n",
       "\n",
       "  /**\n",
       "   * Handle when a new output is added\n",
       "   */\n",
       "  function handleAddOutput(event, handle) {\n",
       "    var output_area = handle.output_area;\n",
       "    var output = handle.output;\n",
       "\n",
       "    // limit handleAddOutput to display_data with EXEC_MIME_TYPE content only\n",
       "    if ((output.output_type != \"display_data\") || (!output.data.hasOwnProperty(EXEC_MIME_TYPE))) {\n",
       "      return\n",
       "    }\n",
       "\n",
       "    var toinsert = output_area.element.find(\".\" + CLASS_NAME.split(' ')[0]);\n",
       "\n",
       "    if (output.metadata[EXEC_MIME_TYPE][\"id\"] !== undefined) {\n",
       "      toinsert[toinsert.length - 1].firstChild.textContent = output.data[JS_MIME_TYPE];\n",
       "      // store reference to embed id on output_area\n",
       "      output_area._bokeh_element_id = output.metadata[EXEC_MIME_TYPE][\"id\"];\n",
       "    }\n",
       "    if (output.metadata[EXEC_MIME_TYPE][\"server_id\"] !== undefined) {\n",
       "      var bk_div = document.createElement(\"div\");\n",
       "      bk_div.innerHTML = output.data[HTML_MIME_TYPE];\n",
       "      var script_attrs = bk_div.children[0].attributes;\n",
       "      for (var i = 0; i < script_attrs.length; i++) {\n",
       "        toinsert[toinsert.length - 1].firstChild.setAttribute(script_attrs[i].name, script_attrs[i].value);\n",
       "      }\n",
       "      // store reference to server id on output_area\n",
       "      output_area._bokeh_server_id = output.metadata[EXEC_MIME_TYPE][\"server_id\"];\n",
       "    }\n",
       "  }\n",
       "\n",
       "  function register_renderer(events, OutputArea) {\n",
       "\n",
       "    function append_mime(data, metadata, element) {\n",
       "      // create a DOM node to render to\n",
       "      var toinsert = this.create_output_subarea(\n",
       "        metadata,\n",
       "        CLASS_NAME,\n",
       "        EXEC_MIME_TYPE\n",
       "      );\n",
       "      this.keyboard_manager.register_events(toinsert);\n",
       "      // Render to node\n",
       "      var props = {data: data, metadata: metadata[EXEC_MIME_TYPE]};\n",
       "      render(props, toinsert[toinsert.length - 1]);\n",
       "      element.append(toinsert);\n",
       "      return toinsert\n",
       "    }\n",
       "\n",
       "    /* Handle when an output is cleared or removed */\n",
       "    events.on('clear_output.CodeCell', handleClearOutput);\n",
       "    events.on('delete.Cell', handleClearOutput);\n",
       "\n",
       "    /* Handle when a new output is added */\n",
       "    events.on('output_added.OutputArea', handleAddOutput);\n",
       "\n",
       "    /**\n",
       "     * Register the mime type and append_mime function with output_area\n",
       "     */\n",
       "    OutputArea.prototype.register_mime_type(EXEC_MIME_TYPE, append_mime, {\n",
       "      /* Is output safe? */\n",
       "      safe: true,\n",
       "      /* Index of renderer in `output_area.display_order` */\n",
       "      index: 0\n",
       "    });\n",
       "  }\n",
       "\n",
       "  // register the mime type if in Jupyter Notebook environment and previously unregistered\n",
       "  if (root.Jupyter !== undefined) {\n",
       "    var events = require('base/js/events');\n",
       "    var OutputArea = require('notebook/js/outputarea').OutputArea;\n",
       "\n",
       "    if (OutputArea.prototype.mime_types().indexOf(EXEC_MIME_TYPE) == -1) {\n",
       "      register_renderer(events, OutputArea);\n",
       "    }\n",
       "  }\n",
       "\n",
       "  \n",
       "  if (typeof (root._bokeh_timeout) === \"undefined\" || force === true) {\n",
       "    root._bokeh_timeout = Date.now() + 5000;\n",
       "    root._bokeh_failed_load = false;\n",
       "  }\n",
       "\n",
       "  var NB_LOAD_WARNING = {'data': {'text/html':\n",
       "     \"<div style='background-color: #fdd'>\\n\"+\n",
       "     \"<p>\\n\"+\n",
       "     \"BokehJS does not appear to have successfully loaded. If loading BokehJS from CDN, this \\n\"+\n",
       "     \"may be due to a slow or bad network connection. Possible fixes:\\n\"+\n",
       "     \"</p>\\n\"+\n",
       "     \"<ul>\\n\"+\n",
       "     \"<li>re-rerun `output_notebook()` to attempt to load from CDN again, or</li>\\n\"+\n",
       "     \"<li>use INLINE resources instead, as so:</li>\\n\"+\n",
       "     \"</ul>\\n\"+\n",
       "     \"<code>\\n\"+\n",
       "     \"from bokeh.resources import INLINE\\n\"+\n",
       "     \"output_notebook(resources=INLINE)\\n\"+\n",
       "     \"</code>\\n\"+\n",
       "     \"</div>\"}};\n",
       "\n",
       "  function display_loaded() {\n",
       "    var el = document.getElementById(\"1001\");\n",
       "    if (el != null) {\n",
       "      el.textContent = \"BokehJS is loading...\";\n",
       "    }\n",
       "    if (root.Bokeh !== undefined) {\n",
       "      if (el != null) {\n",
       "        el.textContent = \"BokehJS \" + root.Bokeh.version + \" successfully loaded.\";\n",
       "      }\n",
       "    } else if (Date.now() < root._bokeh_timeout) {\n",
       "      setTimeout(display_loaded, 100)\n",
       "    }\n",
       "  }\n",
       "\n",
       "\n",
       "  function run_callbacks() {\n",
       "    try {\n",
       "      root._bokeh_onload_callbacks.forEach(function(callback) {\n",
       "        if (callback != null)\n",
       "          callback();\n",
       "      });\n",
       "    } finally {\n",
       "      delete root._bokeh_onload_callbacks\n",
       "    }\n",
       "    console.debug(\"Bokeh: all callbacks have finished\");\n",
       "  }\n",
       "\n",
       "  function load_libs(css_urls, js_urls, callback) {\n",
       "    if (css_urls == null) css_urls = [];\n",
       "    if (js_urls == null) js_urls = [];\n",
       "\n",
       "    root._bokeh_onload_callbacks.push(callback);\n",
       "    if (root._bokeh_is_loading > 0) {\n",
       "      console.debug(\"Bokeh: BokehJS is being loaded, scheduling callback at\", now());\n",
       "      return null;\n",
       "    }\n",
       "    if (js_urls == null || js_urls.length === 0) {\n",
       "      run_callbacks();\n",
       "      return null;\n",
       "    }\n",
       "    console.debug(\"Bokeh: BokehJS not loaded, scheduling load and callback at\", now());\n",
       "    root._bokeh_is_loading = css_urls.length + js_urls.length;\n",
       "\n",
       "    function on_load() {\n",
       "      root._bokeh_is_loading--;\n",
       "      if (root._bokeh_is_loading === 0) {\n",
       "        console.debug(\"Bokeh: all BokehJS libraries/stylesheets loaded\");\n",
       "        run_callbacks()\n",
       "      }\n",
       "    }\n",
       "\n",
       "    function on_error() {\n",
       "      console.error(\"failed to load \" + url);\n",
       "    }\n",
       "\n",
       "    for (var i = 0; i < css_urls.length; i++) {\n",
       "      var url = css_urls[i];\n",
       "      const element = document.createElement(\"link\");\n",
       "      element.onload = on_load;\n",
       "      element.onerror = on_error;\n",
       "      element.rel = \"stylesheet\";\n",
       "      element.type = \"text/css\";\n",
       "      element.href = url;\n",
       "      console.debug(\"Bokeh: injecting link tag for BokehJS stylesheet: \", url);\n",
       "      document.body.appendChild(element);\n",
       "    }\n",
       "\n",
       "    for (var i = 0; i < js_urls.length; i++) {\n",
       "      var url = js_urls[i];\n",
       "      var element = document.createElement('script');\n",
       "      element.onload = on_load;\n",
       "      element.onerror = on_error;\n",
       "      element.async = false;\n",
       "      element.src = url;\n",
       "      console.debug(\"Bokeh: injecting script tag for BokehJS library: \", url);\n",
       "      document.head.appendChild(element);\n",
       "    }\n",
       "  };var element = document.getElementById(\"1001\");\n",
       "  if (element == null) {\n",
       "    console.error(\"Bokeh: ERROR: autoload.js configured with elementid '1001' but no matching script tag was found. \")\n",
       "    return false;\n",
       "  }\n",
       "\n",
       "  function inject_raw_css(css) {\n",
       "    const element = document.createElement(\"style\");\n",
       "    element.appendChild(document.createTextNode(css));\n",
       "    document.body.appendChild(element);\n",
       "  }\n",
       "\n",
       "  \n",
       "  var js_urls = [\"https://cdn.pydata.org/bokeh/release/bokeh-1.4.0.min.js\", \"https://cdn.pydata.org/bokeh/release/bokeh-widgets-1.4.0.min.js\", \"https://cdn.pydata.org/bokeh/release/bokeh-tables-1.4.0.min.js\", \"https://cdn.pydata.org/bokeh/release/bokeh-gl-1.4.0.min.js\"];\n",
       "  var css_urls = [];\n",
       "  \n",
       "\n",
       "  var inline_js = [\n",
       "    function(Bokeh) {\n",
       "      Bokeh.set_log_level(\"info\");\n",
       "    },\n",
       "    function(Bokeh) {\n",
       "    \n",
       "    \n",
       "    }\n",
       "  ];\n",
       "\n",
       "  function run_inline_js() {\n",
       "    \n",
       "    if (root.Bokeh !== undefined || force === true) {\n",
       "      \n",
       "    for (var i = 0; i < inline_js.length; i++) {\n",
       "      inline_js[i].call(root, root.Bokeh);\n",
       "    }\n",
       "    if (force === true) {\n",
       "        display_loaded();\n",
       "      }} else if (Date.now() < root._bokeh_timeout) {\n",
       "      setTimeout(run_inline_js, 100);\n",
       "    } else if (!root._bokeh_failed_load) {\n",
       "      console.log(\"Bokeh: BokehJS failed to load within specified timeout.\");\n",
       "      root._bokeh_failed_load = true;\n",
       "    } else if (force !== true) {\n",
       "      var cell = $(document.getElementById(\"1001\")).parents('.cell').data().cell;\n",
       "      cell.output_area.append_execute_result(NB_LOAD_WARNING)\n",
       "    }\n",
       "\n",
       "  }\n",
       "\n",
       "  if (root._bokeh_is_loading === 0) {\n",
       "    console.debug(\"Bokeh: BokehJS loaded, going straight to plotting\");\n",
       "    run_inline_js();\n",
       "  } else {\n",
       "    load_libs(css_urls, js_urls, function() {\n",
       "      console.debug(\"Bokeh: BokehJS plotting callback run at\", now());\n",
       "      run_inline_js();\n",
       "    });\n",
       "  }\n",
       "}(window));"
      ],
      "application/vnd.bokehjs_load.v0+json": "\n(function(root) {\n  function now() {\n    return new Date();\n  }\n\n  var force = true;\n\n  if (typeof root._bokeh_onload_callbacks === \"undefined\" || force === true) {\n    root._bokeh_onload_callbacks = [];\n    root._bokeh_is_loading = undefined;\n  }\n\n  \n\n  \n  if (typeof (root._bokeh_timeout) === \"undefined\" || force === true) {\n    root._bokeh_timeout = Date.now() + 5000;\n    root._bokeh_failed_load = false;\n  }\n\n  var NB_LOAD_WARNING = {'data': {'text/html':\n     \"<div style='background-color: #fdd'>\\n\"+\n     \"<p>\\n\"+\n     \"BokehJS does not appear to have successfully loaded. If loading BokehJS from CDN, this \\n\"+\n     \"may be due to a slow or bad network connection. Possible fixes:\\n\"+\n     \"</p>\\n\"+\n     \"<ul>\\n\"+\n     \"<li>re-rerun `output_notebook()` to attempt to load from CDN again, or</li>\\n\"+\n     \"<li>use INLINE resources instead, as so:</li>\\n\"+\n     \"</ul>\\n\"+\n     \"<code>\\n\"+\n     \"from bokeh.resources import INLINE\\n\"+\n     \"output_notebook(resources=INLINE)\\n\"+\n     \"</code>\\n\"+\n     \"</div>\"}};\n\n  function display_loaded() {\n    var el = document.getElementById(\"1001\");\n    if (el != null) {\n      el.textContent = \"BokehJS is loading...\";\n    }\n    if (root.Bokeh !== undefined) {\n      if (el != null) {\n        el.textContent = \"BokehJS \" + root.Bokeh.version + \" successfully loaded.\";\n      }\n    } else if (Date.now() < root._bokeh_timeout) {\n      setTimeout(display_loaded, 100)\n    }\n  }\n\n\n  function run_callbacks() {\n    try {\n      root._bokeh_onload_callbacks.forEach(function(callback) {\n        if (callback != null)\n          callback();\n      });\n    } finally {\n      delete root._bokeh_onload_callbacks\n    }\n    console.debug(\"Bokeh: all callbacks have finished\");\n  }\n\n  function load_libs(css_urls, js_urls, callback) {\n    if (css_urls == null) css_urls = [];\n    if (js_urls == null) js_urls = [];\n\n    root._bokeh_onload_callbacks.push(callback);\n    if (root._bokeh_is_loading > 0) {\n      console.debug(\"Bokeh: BokehJS is being loaded, scheduling callback at\", now());\n      return null;\n    }\n    if (js_urls == null || js_urls.length === 0) {\n      run_callbacks();\n      return null;\n    }\n    console.debug(\"Bokeh: BokehJS not loaded, scheduling load and callback at\", now());\n    root._bokeh_is_loading = css_urls.length + js_urls.length;\n\n    function on_load() {\n      root._bokeh_is_loading--;\n      if (root._bokeh_is_loading === 0) {\n        console.debug(\"Bokeh: all BokehJS libraries/stylesheets loaded\");\n        run_callbacks()\n      }\n    }\n\n    function on_error() {\n      console.error(\"failed to load \" + url);\n    }\n\n    for (var i = 0; i < css_urls.length; i++) {\n      var url = css_urls[i];\n      const element = document.createElement(\"link\");\n      element.onload = on_load;\n      element.onerror = on_error;\n      element.rel = \"stylesheet\";\n      element.type = \"text/css\";\n      element.href = url;\n      console.debug(\"Bokeh: injecting link tag for BokehJS stylesheet: \", url);\n      document.body.appendChild(element);\n    }\n\n    for (var i = 0; i < js_urls.length; i++) {\n      var url = js_urls[i];\n      var element = document.createElement('script');\n      element.onload = on_load;\n      element.onerror = on_error;\n      element.async = false;\n      element.src = url;\n      console.debug(\"Bokeh: injecting script tag for BokehJS library: \", url);\n      document.head.appendChild(element);\n    }\n  };var element = document.getElementById(\"1001\");\n  if (element == null) {\n    console.error(\"Bokeh: ERROR: autoload.js configured with elementid '1001' but no matching script tag was found. \")\n    return false;\n  }\n\n  function inject_raw_css(css) {\n    const element = document.createElement(\"style\");\n    element.appendChild(document.createTextNode(css));\n    document.body.appendChild(element);\n  }\n\n  \n  var js_urls = [\"https://cdn.pydata.org/bokeh/release/bokeh-1.4.0.min.js\", \"https://cdn.pydata.org/bokeh/release/bokeh-widgets-1.4.0.min.js\", \"https://cdn.pydata.org/bokeh/release/bokeh-tables-1.4.0.min.js\", \"https://cdn.pydata.org/bokeh/release/bokeh-gl-1.4.0.min.js\"];\n  var css_urls = [];\n  \n\n  var inline_js = [\n    function(Bokeh) {\n      Bokeh.set_log_level(\"info\");\n    },\n    function(Bokeh) {\n    \n    \n    }\n  ];\n\n  function run_inline_js() {\n    \n    if (root.Bokeh !== undefined || force === true) {\n      \n    for (var i = 0; i < inline_js.length; i++) {\n      inline_js[i].call(root, root.Bokeh);\n    }\n    if (force === true) {\n        display_loaded();\n      }} else if (Date.now() < root._bokeh_timeout) {\n      setTimeout(run_inline_js, 100);\n    } else if (!root._bokeh_failed_load) {\n      console.log(\"Bokeh: BokehJS failed to load within specified timeout.\");\n      root._bokeh_failed_load = true;\n    } else if (force !== true) {\n      var cell = $(document.getElementById(\"1001\")).parents('.cell').data().cell;\n      cell.output_area.append_execute_result(NB_LOAD_WARNING)\n    }\n\n  }\n\n  if (root._bokeh_is_loading === 0) {\n    console.debug(\"Bokeh: BokehJS loaded, going straight to plotting\");\n    run_inline_js();\n  } else {\n    load_libs(css_urls, js_urls, function() {\n      console.debug(\"Bokeh: BokehJS plotting callback run at\", now());\n      run_inline_js();\n    });\n  }\n}(window));"
     },
     "metadata": {},
     "output_type": "display_data"
    },
    {
     "name": "stdout",
     "output_type": "stream",
     "text": [
      "Notebook last executed on 2019-12-03 using iprPy version 0.9.1\n"
     ]
    }
   ],
   "source": [
    "# Standard library imports\n",
    "from pathlib import Path\n",
    "import os\n",
    "import sys\n",
    "import uuid\n",
    "import shutil\n",
    "import datetime\n",
    "from collections import OrderedDict\n",
    "from math import floor\n",
    "from copy import deepcopy\n",
    "\n",
    "from IPython.display import display, clear_output, HTML\n",
    "from ipywidgets import Dropdown, Text, BoundedIntText, BoundedFloatText, Output\n",
    "\n",
    "# http://www.numpy.org/\n",
    "import numpy as np\n",
    "\n",
    "# https://github.com/usnistgov/DataModelDict \n",
    "from DataModelDict import DataModelDict as DM\n",
    "\n",
    "# https://github.com/usnistgov/atomman \n",
    "import atomman as am\n",
    "import atomman.lammps as lmp\n",
    "import atomman.unitconvert as uc\n",
    "\n",
    "# https://github.com/usnistgov/iprPy\n",
    "import iprPy\n",
    "\n",
    "# http://bokeh.pydata.org/\n",
    "import bokeh\n",
    "print('Bokeh version =', bokeh.__version__)\n",
    "from bokeh.plotting import figure, output_file, show\n",
    "from bokeh.embed import components\n",
    "from bokeh.resources import Resources\n",
    "from bokeh.io import output_notebook\n",
    "output_notebook()\n",
    "\n",
    "print('Notebook last executed on', datetime.date.today(), 'using iprPy version', iprPy.__version__)"
   ]
  },
  {
   "cell_type": "markdown",
   "metadata": {},
   "source": [
    "#### 1.2. Default calculation setup"
   ]
  },
  {
   "cell_type": "code",
   "execution_count": 2,
   "metadata": {},
   "outputs": [],
   "source": [
    "# Specify calculation style\n",
    "calc_style = 'diatom_scan'\n",
    "\n",
    "# If workingdir is already set, then do nothing (already in correct folder)\n",
    "try:\n",
    "    workingdir = workingdir\n",
    "\n",
    "# Change to workingdir if not already there\n",
    "except:\n",
    "    workingdir = Path('calculationfiles', calc_style)\n",
    "    if not workingdir.is_dir():\n",
    "        workingdir.mkdir(parents=True)\n",
    "    os.chdir(workingdir)"
   ]
  },
  {
   "cell_type": "markdown",
   "metadata": {},
   "source": [
    "### 2. Calculation setup/definition"
   ]
  },
  {
   "cell_type": "markdown",
   "metadata": {},
   "source": [
    "#### 2.1 Input widget functions\n",
    "\n",
    "These simply define the widgets for inputting the calculation parameters\n",
    "\n",
    "- __widget_diatom_scan__ allows all parameters for diatom_scan to be specified"
   ]
  },
  {
   "cell_type": "code",
   "execution_count": 3,
   "metadata": {},
   "outputs": [],
   "source": [
    "def widget_diatom_scan(data):\n",
    "    \n",
    "    # Define library database\n",
    "    database = iprPy.load_database(style='library')\n",
    "    \n",
    "    # Fetch potentials\n",
    "    potentials, potentials_df = database.get_records(style='potential_LAMMPS', return_df=True)\n",
    "    potentials = np.asarray(potentials)\n",
    "    \n",
    "    # Set initial potential\n",
    "    pot_record = potentials[0]\n",
    "    pot_dir = Path(database.host, 'potential_LAMMPS', pot_record.name)\n",
    "    potential = lmp.Potential(pot_record.content, pot_dir)\n",
    "    \n",
    "    # Set default data values\n",
    "    data['lammps_command'] = 'lmp_serial'\n",
    "    data['potential'] = potential\n",
    "    data['symbols'] = [potential.symbols[0], potential.symbols[0]]\n",
    "    data['rmin'] = 0.02\n",
    "    data['rmax'] = 6.0\n",
    "    data['rsteps'] = 300\n",
    "    \n",
    "    # Define widgets and outputs\n",
    "    widget_lammps_command = Text(value=data['lammps_command'], description='LAMMPS:')\n",
    "    widget_potential = Dropdown(options=potentials_df.id.tolist(), description='Potential:')\n",
    "    widget_symbol1 = Dropdown(options=potential.symbols, value=potential.symbols[0], description='Symbol 1:')\n",
    "    widget_symbol2 = Dropdown(options=potential.symbols, value=potential.symbols[0], description='Symbol 2:')\n",
    "    widget_rmin = BoundedFloatText(value=data['rmin'], min=0, max=data['rmax'], description='Min r:')\n",
    "    widget_rmax = BoundedFloatText(value=data['rmax'], min=data['rmin'], max=10, description='Max r:')\n",
    "    widget_rsteps = BoundedIntText(value=data['rsteps'], min=2, max=1000, description='Num r steps:')\n",
    "    data_out = Output()\n",
    "    \n",
    "    def showdata():\n",
    "        with data_out:\n",
    "            clear_output()\n",
    "            print(data)\n",
    "    \n",
    "    def lammps_command_event(*args):\n",
    "        \"\"\"Event manager\"\"\"\n",
    "        data['lammps_command'] = widget_lammps_command.value\n",
    "        showdata()\n",
    "    widget_lammps_command.observe(lammps_command_event)\n",
    "    \n",
    "    def potentials_action(*args):\n",
    "        \"\"\"Event manager\"\"\"\n",
    "        pot_record = potentials[potentials_df.id == widget_potential.value][0]\n",
    "        pot_dir = Path(database.host, 'potential_LAMMPS', pot_record.name)\n",
    "        potential = lmp.Potential(pot_record.content, pot_dir)\n",
    "        data['potential'] = potential\n",
    "        widget_symbol1.options = potential.symbols\n",
    "        widget_symbol2.options = potential.symbols\n",
    "        showdata()\n",
    "    widget_potential.observe(potentials_action)\n",
    "    \n",
    "    def symbols_action(*args):\n",
    "        \"\"\"Event manager\"\"\"\n",
    "        data['symbols'] = [widget_symbol1.value, widget_symbol2.value]\n",
    "        showdata()\n",
    "    widget_symbol1.observe(symbols_action)\n",
    "    widget_symbol2.observe(symbols_action)\n",
    "    \n",
    "    def rmin_action(*args):\n",
    "        \"\"\"Event manager\"\"\"\n",
    "        data['rmin'] = widget_rmin.value\n",
    "        widget_rmax.min = widget_rmin.value\n",
    "        showdata()\n",
    "    widget_rmin.observe(rmin_action)\n",
    "    \n",
    "    def rmax_action(*args):\n",
    "        \"\"\"Event manager\"\"\"\n",
    "        data['rmax'] = widget_rmax.value\n",
    "        widget_rmin.max = widget_rmax.value\n",
    "        showdata()\n",
    "    widget_rmax.observe(rmax_action)\n",
    "        \n",
    "    def rsteps_event(*args):\n",
    "        \"\"\"Event manager\"\"\"\n",
    "        data['rsteps'] = widget_rsteps.value\n",
    "        showdata()\n",
    "    widget_rsteps.observe(rsteps_event)    \n",
    "    \n",
    "    showdata()\n",
    "    \n",
    "    display(\n",
    "        widget_lammps_command,\n",
    "        widget_potential,\n",
    "        widget_symbol1,\n",
    "        widget_symbol2,\n",
    "        widget_rmin,\n",
    "        widget_rmax,\n",
    "        widget_rsteps,\n",
    "        data_out\n",
    "    )"
   ]
  },
  {
   "cell_type": "markdown",
   "metadata": {},
   "source": [
    "#### 2.2. LAMMPS input templates\n",
    "\n",
    "These are template LAMMPS input scripts used by the calculation functions\n",
    "\n",
    "- __run0.template__ computes the energy of a system using a potential without any relaxations"
   ]
  },
  {
   "cell_type": "code",
   "execution_count": 4,
   "metadata": {},
   "outputs": [],
   "source": [
    "with open('run0.template', 'w') as f:\n",
    "    f.write(\"\"\"#LAMMPS input script that evaluates a system's energy without relaxing\n",
    "\n",
    "<atomman_system_pair_info>\n",
    "\n",
    "thermo_style custom step pe\n",
    "thermo_modify format float %.13e\n",
    "\n",
    "run 0\"\"\")"
   ]
  },
  {
   "cell_type": "markdown",
   "metadata": {},
   "source": [
    "#### 2.3. Calculation functions\n",
    "\n",
    "These are the calculation functions \n",
    "\n",
    "- __diatom__ computes the interaction energy between two atoms over a range of interatomic spaces"
   ]
  },
  {
   "cell_type": "code",
   "execution_count": 5,
   "metadata": {},
   "outputs": [],
   "source": [
    "def diatom(lammps_command, potential, symbols,\n",
    "           mpi_command=None, \n",
    "           rmin=uc.set_in_units(0.02, 'angstrom'), \n",
    "           rmax=uc.set_in_units(6.0, 'angstrom'), rsteps=300):\n",
    "    \"\"\"\n",
    "    Performs a diatom energy scan over a range of interatomic spaces, r.\n",
    "    \n",
    "    Parameters\n",
    "    ----------\n",
    "    lammps_command :str\n",
    "        Command for running LAMMPS.\n",
    "    potential : atomman.lammps.Potential\n",
    "        The LAMMPS implemented potential to use.\n",
    "    symbols : list\n",
    "        The potential symbols associated with the two atoms in the diatom.\n",
    "    mpi_command : str, optional\n",
    "        The MPI command for running LAMMPS in parallel.  If not given, LAMMPS\n",
    "        will run serially.\n",
    "    rmin : float, optional\n",
    "        The minimum r spacing to use (default value is 0.02 angstroms).\n",
    "    rmax : float, optional\n",
    "        The maximum r spacing to use (default value is 6.0 angstroms).\n",
    "    rsteps : int, optional\n",
    "        The number of r spacing steps to evaluate (default value is 300).\n",
    "    \n",
    "    Returns\n",
    "    -------\n",
    "    dict\n",
    "        Dictionary of results consisting of keys:\n",
    "        \n",
    "        - **'r_values'** (*numpy.array of float*) - All interatomic spacings,\n",
    "          r, explored.\n",
    "        - **'energy_values'** (*numpy.array of float*) - The computed potential\n",
    "          energies for each r value.\n",
    "    \"\"\"\n",
    "    try:\n",
    "        # Get script's location if __file__ exists\n",
    "        script_dir = Path(__file__).parent\n",
    "    except:\n",
    "        # Use cwd otherwise\n",
    "        script_dir = Path.cwd()\n",
    " \n",
    "    # Build lists of values\n",
    "    r_values = np.linspace(rmin, rmax, rsteps)\n",
    "    energy_values = np.empty(rsteps)\n",
    "    \n",
    "    # Define atype based on symbols\n",
    "    symbols = iprPy.tools.aslist(symbols)\n",
    "    if len(symbols) == 1:\n",
    "        atype = [1, 1]\n",
    "    elif len(symbols) == 2:\n",
    "        atype = [1, 2]\n",
    "    else:\n",
    "        raise ValueError('symbols must have one or two values')\n",
    "    \n",
    "    # Initialize system (will shift second atom's position later...)\n",
    "    box = am.Box.cubic(a = rmax + 1)\n",
    "    atoms = am.Atoms(atype=atype, pos=[[0.1, 0.1, 0.1], [0.1, 0.1, 0.1]])\n",
    "    system = am.System(atoms=atoms, box=box, pbc=[False, False, False], symbols=symbols)\n",
    "\n",
    "    # Add charges if required\n",
    "    if potential.atom_style == 'charge':\n",
    "        system.atoms.prop_atype('charge', potential.charges(system.symbols))\n",
    "\n",
    "    # Get lammps units\n",
    "    lammps_units = lmp.style.unit(potential.units)\n",
    "\n",
    "    # Define lammps variables\n",
    "    lammps_variables = {}\n",
    "\n",
    "    # Loop over values\n",
    "    for i in range(rsteps):\n",
    "        \n",
    "        # Shift second atom's x position\n",
    "        system.atoms.pos[1] = np.array([0.1 + r_values[i], 0.1, 0.1])\n",
    "\n",
    "        # Save configuration\n",
    "        system_info = system.dump('atom_data', f='diatom.dat',\n",
    "                                  potential=potential,\n",
    "                                  return_pair_info=True)\n",
    "        lammps_variables['atomman_system_pair_info'] = system_info\n",
    "        \n",
    "        # Write lammps input script\n",
    "        template_file = Path(script_dir, 'run0.template')\n",
    "        lammps_script = 'run0.in'\n",
    "        with open(template_file) as f:\n",
    "            template = f.read()\n",
    "        with open(lammps_script, 'w') as f:\n",
    "            f.write(iprPy.tools.filltemplate(template, lammps_variables,\n",
    "                                             '<', '>'))\n",
    "        \n",
    "        # Run lammps and extract data\n",
    "        try:\n",
    "            output = lmp.run(lammps_command, lammps_script, mpi_command)\n",
    "        except:\n",
    "            energy_values[i] = np.nan\n",
    "        else:\n",
    "            energy = output.simulations[0]['thermo'].PotEng.values[-1]\n",
    "            energy_values[i] = uc.set_in_units(energy, lammps_units['energy'])\n",
    "\n",
    "    if len(energy_values[np.isfinite(energy_values)]) == 0:\n",
    "        raise ValueError('All LAMMPS runs failed. Potential likely invalid or incompatible.')\n",
    "    \n",
    "    # Collect results\n",
    "    results_dict = {}\n",
    "    results_dict['r_values'] = r_values\n",
    "    results_dict['energy_values'] = energy_values\n",
    "    \n",
    "    return results_dict"
   ]
  },
  {
   "cell_type": "markdown",
   "metadata": {},
   "source": [
    "#### 2.4 Display functions\n",
    "\n",
    "These are pre-defined functions for displaying results\n",
    "\n",
    "- __show_E_vs_r_plot__ plots the energies versus interatomic spacing in the \"normal\" regime"
   ]
  },
  {
   "cell_type": "code",
   "execution_count": 14,
   "metadata": {},
   "outputs": [],
   "source": [
    "def show_E_vs_r_plot(input_dict, results_dict):\n",
    "    energy = results_dict['energy_values']\n",
    "    r = results_dict['r_values']\n",
    "\n",
    "    Emin = floor(energy.min())\n",
    "    if Emin < -10: \n",
    "        Emin = -10\n",
    "\n",
    "    plot = figure(title = f'Diatom energy scan for {input_dict[\"potential\"]}',\n",
    "                  plot_width = 800,\n",
    "                  plot_height = 600,\n",
    "                  x_range = [input_dict['rmin'], input_dict['rmax']],\n",
    "                  y_range = [Emin, 0],              \n",
    "                  x_axis_label=f'r (Angstroms)', \n",
    "                  y_axis_label=f'Interaction Energy (eV)')\n",
    "\n",
    "    plot.line(r, energy, line_width=2, legend_label='-'.join(input_dict['symbols']))  \n",
    "    plot.legend.location = \"bottom_right\"    \n",
    "\n",
    "    show(plot)"
   ]
  },
  {
   "cell_type": "markdown",
   "metadata": {},
   "source": [
    "### 3. Calculation Input Parameters\n",
    "\n",
    "- __LAMMPS__: LAMMPS executable to use\n",
    "- __Potential__: Name of the interatomic potential to use\n",
    "- __Symbol 1 and 2__: The elemental models from the potential to use for the two atoms\n",
    "- __Min and Max r__: The range of interatomic distances to explore\n",
    "- __Num r steps__: The number of measurements to make"
   ]
  },
  {
   "cell_type": "code",
   "execution_count": 15,
   "metadata": {},
   "outputs": [
    {
     "data": {
      "application/vnd.jupyter.widget-view+json": {
       "model_id": "00e96d28d4b445a8839754c465f76663",
       "version_major": 2,
       "version_minor": 0
      },
      "text/plain": [
       "Text(value='lmp_serial', description='LAMMPS:')"
      ]
     },
     "metadata": {},
     "output_type": "display_data"
    },
    {
     "data": {
      "application/vnd.jupyter.widget-view+json": {
       "model_id": "42428942fea4455dad38c77cd59e74c7",
       "version_major": 2,
       "version_minor": 0
      },
      "text/plain": [
       "Dropdown(description='Potential:', options=('1985--Foiles-S-M--Ni-Cu--LAMMPS--ipr1', '1985--Stillinger-F-H--Si…"
      ]
     },
     "metadata": {},
     "output_type": "display_data"
    },
    {
     "data": {
      "application/vnd.jupyter.widget-view+json": {
       "model_id": "559c8994b3384d0f98868f0a2a14deb4",
       "version_major": 2,
       "version_minor": 0
      },
      "text/plain": [
       "Dropdown(description='Symbol 1:', options=('Cu', 'Ni'), value='Cu')"
      ]
     },
     "metadata": {},
     "output_type": "display_data"
    },
    {
     "data": {
      "application/vnd.jupyter.widget-view+json": {
       "model_id": "f414fc4bc73e4f6e9dc5e9ef576969fd",
       "version_major": 2,
       "version_minor": 0
      },
      "text/plain": [
       "Dropdown(description='Symbol 2:', options=('Cu', 'Ni'), value='Cu')"
      ]
     },
     "metadata": {},
     "output_type": "display_data"
    },
    {
     "data": {
      "application/vnd.jupyter.widget-view+json": {
       "model_id": "10f363d978e44408bb83165455a68393",
       "version_major": 2,
       "version_minor": 0
      },
      "text/plain": [
       "BoundedFloatText(value=0.02, description='Min r:', max=6.0)"
      ]
     },
     "metadata": {},
     "output_type": "display_data"
    },
    {
     "data": {
      "application/vnd.jupyter.widget-view+json": {
       "model_id": "57cae000f0a74720ad5df4bc689f70f7",
       "version_major": 2,
       "version_minor": 0
      },
      "text/plain": [
       "BoundedFloatText(value=6.0, description='Max r:', max=10.0, min=0.02)"
      ]
     },
     "metadata": {},
     "output_type": "display_data"
    },
    {
     "data": {
      "application/vnd.jupyter.widget-view+json": {
       "model_id": "eabc8e8b93434134a038427a0d93870e",
       "version_major": 2,
       "version_minor": 0
      },
      "text/plain": [
       "BoundedIntText(value=300, description='Num r steps:', max=1000, min=2)"
      ]
     },
     "metadata": {},
     "output_type": "display_data"
    },
    {
     "data": {
      "application/vnd.jupyter.widget-view+json": {
       "model_id": "10b061a9f376489a8cba0eff9ff50e28",
       "version_major": 2,
       "version_minor": 0
      },
      "text/plain": [
       "Output()"
      ]
     },
     "metadata": {},
     "output_type": "display_data"
    }
   ],
   "source": [
    "input_dict = {}\n",
    "widget_diatom_scan(input_dict)"
   ]
  },
  {
   "cell_type": "markdown",
   "metadata": {},
   "source": [
    "### 4. Run calculation function(s) and display results"
   ]
  },
  {
   "cell_type": "code",
   "execution_count": 16,
   "metadata": {},
   "outputs": [
    {
     "data": {
      "text/html": [
       "\n",
       "\n",
       "\n",
       "\n",
       "\n",
       "\n",
       "  <div class=\"bk-root\" id=\"4a404434-c5ab-467a-a576-0e5d985d03d1\" data-root-id=\"1262\"></div>\n"
      ]
     },
     "metadata": {},
     "output_type": "display_data"
    },
    {
     "data": {
      "application/javascript": [
       "(function(root) {\n",
       "  function embed_document(root) {\n",
       "    \n",
       "  var docs_json = {\"a9ae0f22-8e08-43cc-a4f5-04310238a2bf\":{\"roots\":{\"references\":[{\"attributes\":{\"below\":[{\"id\":\"1273\",\"type\":\"LinearAxis\"}],\"center\":[{\"id\":\"1277\",\"type\":\"Grid\"},{\"id\":\"1282\",\"type\":\"Grid\"},{\"id\":\"1307\",\"type\":\"Legend\"}],\"left\":[{\"id\":\"1278\",\"type\":\"LinearAxis\"}],\"plot_width\":800,\"renderers\":[{\"id\":\"1299\",\"type\":\"GlyphRenderer\"}],\"title\":{\"id\":\"1263\",\"type\":\"Title\"},\"toolbar\":{\"id\":\"1289\",\"type\":\"Toolbar\"},\"x_range\":{\"id\":\"1265\",\"type\":\"Range1d\"},\"x_scale\":{\"id\":\"1269\",\"type\":\"LinearScale\"},\"y_range\":{\"id\":\"1267\",\"type\":\"Range1d\"},\"y_scale\":{\"id\":\"1271\",\"type\":\"LinearScale\"}},\"id\":\"1262\",\"subtype\":\"Figure\",\"type\":\"Plot\"},{\"attributes\":{},\"id\":\"1303\",\"type\":\"BasicTickFormatter\"},{\"attributes\":{\"callback\":null,\"end\":0,\"start\":-4},\"id\":\"1267\",\"type\":\"Range1d\"},{\"attributes\":{\"axis_label\":\"Interaction Energy (eV)\",\"formatter\":{\"id\":\"1305\",\"type\":\"BasicTickFormatter\"},\"ticker\":{\"id\":\"1279\",\"type\":\"BasicTicker\"}},\"id\":\"1278\",\"type\":\"LinearAxis\"},{\"attributes\":{\"items\":[{\"id\":\"1308\",\"type\":\"LegendItem\"}],\"location\":\"bottom_right\"},\"id\":\"1307\",\"type\":\"Legend\"},{\"attributes\":{},\"id\":\"1274\",\"type\":\"BasicTicker\"},{\"attributes\":{\"dimension\":1,\"ticker\":{\"id\":\"1279\",\"type\":\"BasicTicker\"}},\"id\":\"1282\",\"type\":\"Grid\"},{\"attributes\":{\"text\":\"Diatom energy scan for 1985--Foiles-S-M--Ni-Cu--LAMMPS--ipr1\"},\"id\":\"1263\",\"type\":\"Title\"},{\"attributes\":{},\"id\":\"1331\",\"type\":\"UnionRenderers\"},{\"attributes\":{\"line_color\":\"#1f77b4\",\"line_width\":2,\"x\":{\"field\":\"x\"},\"y\":{\"field\":\"y\"}},\"id\":\"1297\",\"type\":\"Line\"},{\"attributes\":{\"source\":{\"id\":\"1296\",\"type\":\"ColumnDataSource\"}},\"id\":\"1300\",\"type\":\"CDSView\"},{\"attributes\":{\"line_alpha\":0.1,\"line_color\":\"#1f77b4\",\"line_width\":2,\"x\":{\"field\":\"x\"},\"y\":{\"field\":\"y\"}},\"id\":\"1298\",\"type\":\"Line\"},{\"attributes\":{},\"id\":\"1279\",\"type\":\"BasicTicker\"},{\"attributes\":{\"data_source\":{\"id\":\"1296\",\"type\":\"ColumnDataSource\"},\"glyph\":{\"id\":\"1297\",\"type\":\"Line\"},\"hover_glyph\":null,\"muted_glyph\":null,\"nonselection_glyph\":{\"id\":\"1298\",\"type\":\"Line\"},\"selection_glyph\":null,\"view\":{\"id\":\"1300\",\"type\":\"CDSView\"}},\"id\":\"1299\",\"type\":\"GlyphRenderer\"},{\"attributes\":{\"ticker\":{\"id\":\"1274\",\"type\":\"BasicTicker\"}},\"id\":\"1277\",\"type\":\"Grid\"},{\"attributes\":{\"callback\":null,\"end\":6.0,\"start\":0.02},\"id\":\"1265\",\"type\":\"Range1d\"},{\"attributes\":{},\"id\":\"1305\",\"type\":\"BasicTickFormatter\"},{\"attributes\":{},\"id\":\"1271\",\"type\":\"LinearScale\"},{\"attributes\":{\"axis_label\":\"r (Angstroms)\",\"formatter\":{\"id\":\"1303\",\"type\":\"BasicTickFormatter\"},\"ticker\":{\"id\":\"1274\",\"type\":\"BasicTicker\"}},\"id\":\"1273\",\"type\":\"LinearAxis\"},{\"attributes\":{\"label\":{\"value\":\"Cu-Ni\"},\"renderers\":[{\"id\":\"1299\",\"type\":\"GlyphRenderer\"}]},\"id\":\"1308\",\"type\":\"LegendItem\"},{\"attributes\":{\"active_drag\":\"auto\",\"active_inspect\":\"auto\",\"active_multi\":null,\"active_scroll\":\"auto\",\"active_tap\":\"auto\",\"tools\":[{\"id\":\"1283\",\"type\":\"PanTool\"},{\"id\":\"1284\",\"type\":\"WheelZoomTool\"},{\"id\":\"1285\",\"type\":\"BoxZoomTool\"},{\"id\":\"1286\",\"type\":\"SaveTool\"},{\"id\":\"1287\",\"type\":\"ResetTool\"},{\"id\":\"1288\",\"type\":\"HelpTool\"}]},\"id\":\"1289\",\"type\":\"Toolbar\"},{\"attributes\":{},\"id\":\"1288\",\"type\":\"HelpTool\"},{\"attributes\":{},\"id\":\"1287\",\"type\":\"ResetTool\"},{\"attributes\":{\"bottom_units\":\"screen\",\"fill_alpha\":{\"value\":0.5},\"fill_color\":{\"value\":\"lightgrey\"},\"left_units\":\"screen\",\"level\":\"overlay\",\"line_alpha\":{\"value\":1.0},\"line_color\":{\"value\":\"black\"},\"line_dash\":[4,4],\"line_width\":{\"value\":2},\"render_mode\":\"css\",\"right_units\":\"screen\",\"top_units\":\"screen\"},\"id\":\"1306\",\"type\":\"BoxAnnotation\"},{\"attributes\":{},\"id\":\"1286\",\"type\":\"SaveTool\"},{\"attributes\":{},\"id\":\"1269\",\"type\":\"LinearScale\"},{\"attributes\":{\"overlay\":{\"id\":\"1306\",\"type\":\"BoxAnnotation\"}},\"id\":\"1285\",\"type\":\"BoxZoomTool\"},{\"attributes\":{\"callback\":null,\"data\":{\"x\":{\"__ndarray__\":\"exSuR+F6lD/raQD0W5W0P1ynCsv/BcI/whkVnFHByT8Uxo+2Ub7QP0j/FJ/6m9Q/eziah6N52D+ucR9wTFfcP3BVUqx6GuA/CvKUIE8J4j+kjteUI/jjPz0rGgn45uU/18dcfczV5z9wZJ/xoMTpPwoB4mV1s+s/o50k2kmi7T89OmdOHpHvP2vrVGH5v/A/uDl2m2O38T8FiJfVza7yP1LWuA84pvM/niTaSaKd9D/rcvuDDJX1PzjBHL52jPY/hQ8++OCD9z/SXV8yS3v4Px6sgGy1cvk/a/qhph9q+j+4SMPgiWH7PwWX5Br0WPw/UeUFVV5Q/T+eMyePyEf+P+uBSMkyP/8/HOi0gU4bAEBCj8WeA5cAQGk21ru4EgFAj93m2G2OAUC1hPf1IgoCQNwrCBPYhQJAAtMYMI0BA0ApeilNQn0DQE8hOmr3+ANAdchKh6x0BECcb1ukYfAEQMIWbMEWbAVA6b183svnBUAPZY37gGMGQDUMnhg23wZAXLOuNetaB0CCWr9SoNYHQKkB0G9VUghAz6jgjArOCED1T/Gpv0kJQBz3Acd0xQlAQp4S5ClBCkBoRSMB37wKQI/sMx6UOAtAtZNEO0m0C0DcOlVY/i8MQALiZXWzqwxAKIl2kmgnDUBPMIevHaMNQHXXl8zSHg5AnH6o6YeaDkDCJbkGPRYPQOjMySPykQ9ABzptoNMGEECajfUurkQQQC3hfb2IghBAwDQGTGPAEEBUiI7aPf4QQOfbFmkYPBFAei+f9/J5EUANgyeGzbcRQKDWrxSo9RFANCo4o4IzEkDHfcAxXXESQFrRSMA3rxJA7STRThLtEkCAeFnd7CoTQBTM4WvHaBNApx9q+qGmE0A6c/KIfOQTQM3GehdXIhRAYBoDpjFgFED0bYs0DJ4UQIfBE8Pm2xRAGhWcUcEZFUCtaCTgm1cVQEC8rG52lRVA1A81/VDTFUBnY72LKxEWQPq2RRoGTxZAjQrOqOCMFkAgXlY3u8oWQLSx3sWVCBdARwVnVHBGF0DaWO/iSoQXQG2sd3ElwhdAAAAAAAAAGEA=\",\"dtype\":\"float64\",\"shape\":[100]},\"y\":{\"__ndarray__\":\"rshwgyc78kC2Rsd/WbjOQMUBNs/WJr1AFmgTuRk0sEBGl9Ym9Y2iQLcGmKuPzZRAbuQHCVFGhkB0FU2DI352QN2hCKUAfWVAIkTMU6lkVEClOBeh0XFGQL4c+YaqT0FAAf2x87OQQUArI0Q0uCRDQMLwlXzFPURAARICwnZLREBdNwETUVdDQHGq///sm0FAWx1E/XulPkB54pvFZLQ5QNzA9zVE6zRADiTHV32RMEDwZ+U/CmopQLwp5vY2wSJAENvhC+ZVGkCfUcF6QxwRQIuh2SkDPwNAypQpgXkn7T/m2e6XwqDQv7hFQV4jl/K/gYYbbAB2/b8wJhPzgLQCwIQfGcGCfgXAMyGw9XdSB8DiArzezlIIwEgQeLhOuwjATH+j9q2uCMDPGWXBU0gIwDaE6q2HngfAfT+hu0zDBsCldM+IHsUFwCp86OaRrwTAQIEwkteLA8Cf0HvoKGECwJm/wk28MQHA/M2a8hgDAMAeQlJbfrf9v7osHBTJe/u/k5Bo3RpW+b/3EkIc/kf3v7jXorEVV/W/VIdJlqmH879YTUKPCtjxv3nDMwJZQvC/oItmVxON7b9yU1y3xMLqv1GBGDI7Dei/eTB4ouhj5b+Sp2Sl2NDiv2SH05KPXeC/Q12Akac23L/sFTHx4ifYvxwTriGLktS//GVOlKpx0b8De5jD7XfNv9qZ1RHIzMi/2qumoTnLxL/D1SoenF3Bv3X3ZsQn4Ly/EQLQt7nht7/gquLgpaCzv8eExAqsAbC/BsYxnXPaqb+AidMwCJ6kv4ckszZBK6C/VA1oFJbImL+VBtHeSF+Sv0IvmpQP3om/MGrxs0GlgL+Po25ZBKlxv+JE1jRQF2O/79Am1KrYSr8AAAAAAAAAAAAAAAAAAAAAAAAAAAAAAAAAAAAAAAAAAAAAAAAAAAAAAAAAAAAAAAAAAAAAAAAAAAAAAAAAAAAAAAAAAAAAAAAAAAAAAAAAAAAAAAAAAAAAAAAAAAAAAAAAAAAAAAAAAAAAAAAAAAAAAAAAAAAAAAAAAAAAAAAAAAAAAAAAAAAAAAAAAAAAAAA=\",\"dtype\":\"float64\",\"shape\":[100]}},\"selected\":{\"id\":\"1330\",\"type\":\"Selection\"},\"selection_policy\":{\"id\":\"1331\",\"type\":\"UnionRenderers\"}},\"id\":\"1296\",\"type\":\"ColumnDataSource\"},{\"attributes\":{},\"id\":\"1284\",\"type\":\"WheelZoomTool\"},{\"attributes\":{},\"id\":\"1330\",\"type\":\"Selection\"},{\"attributes\":{},\"id\":\"1283\",\"type\":\"PanTool\"}],\"root_ids\":[\"1262\"]},\"title\":\"Bokeh Application\",\"version\":\"1.4.0\"}};\n",
       "  var render_items = [{\"docid\":\"a9ae0f22-8e08-43cc-a4f5-04310238a2bf\",\"roots\":{\"1262\":\"4a404434-c5ab-467a-a576-0e5d985d03d1\"}}];\n",
       "  root.Bokeh.embed.embed_items_notebook(docs_json, render_items);\n",
       "\n",
       "  }\n",
       "  if (root.Bokeh !== undefined) {\n",
       "    embed_document(root);\n",
       "  } else {\n",
       "    var attempts = 0;\n",
       "    var timer = setInterval(function(root) {\n",
       "      if (root.Bokeh !== undefined) {\n",
       "        clearInterval(timer);\n",
       "        embed_document(root);\n",
       "      } else {\n",
       "        attempts++;\n",
       "        if (attempts > 100) {\n",
       "          clearInterval(timer);\n",
       "          console.log(\"Bokeh: ERROR: Unable to run BokehJS code because BokehJS library is missing\");\n",
       "        }\n",
       "      }\n",
       "    }, 10, root)\n",
       "  }\n",
       "})(window);"
      ],
      "application/vnd.bokehjs_exec.v0+json": ""
     },
     "metadata": {
      "application/vnd.bokehjs_exec.v0+json": {
       "id": "1262"
      }
     },
     "output_type": "display_data"
    }
   ],
   "source": [
    "results_dict = diatom(input_dict['lammps_command'],\n",
    "                      input_dict['potential'],\n",
    "                      input_dict['symbols'],\n",
    "                      rmin = input_dict['rmin'], \n",
    "                      rmax = input_dict['rmax'], \n",
    "                      rsteps = input_dict['rsteps'])\n",
    "\n",
    "show_E_vs_r_plot(input_dict, results_dict)"
   ]
  },
  {
   "cell_type": "code",
   "execution_count": null,
   "metadata": {},
   "outputs": [],
   "source": []
  }
 ],
 "metadata": {
  "kernelspec": {
   "display_name": "Python 3",
   "language": "python",
   "name": "python3"
  },
  "language_info": {
   "codemirror_mode": {
    "name": "ipython",
    "version": 3
   },
   "file_extension": ".py",
   "mimetype": "text/x-python",
   "name": "python",
   "nbconvert_exporter": "python",
   "pygments_lexer": "ipython3",
   "version": "3.7.3"
  }
 },
 "nbformat": 4,
 "nbformat_minor": 4
}
